{
 "cells": [
  {
   "cell_type": "code",
   "execution_count": 19,
   "metadata": {},
   "outputs": [],
   "source": [
    "import pandas as pd"
   ]
  },
  {
   "cell_type": "markdown",
   "metadata": {},
   "source": [
    "# Using the data from Foursquare to open a restaurant in Lyon\n",
    "\n",
    "## Introduction \n",
    "\n",
    "I chose to work on the city of Lyon that I know. Let's say you want to open a restaurant in this city which is the third largest in France, how could the data from [Foursquare](http://www.foursquare.com) help your decision regarding the location of this restaurant and its activity?"
   ]
  },
  {
   "cell_type": "markdown",
   "metadata": {},
   "source": [
    "## Data \n",
    "\n",
    "### Location\n",
    "\n",
    "I chose to use the data from Foursquare to find out interesting venues away from any restaurant. To that end I got from Foursquare the data of four categories of places: food (`Food`, aka your competition), fun (`Arts & Entertainment`), school (`College & University`), transport (`Travel & Transport`) and business (`Business Center`). I will thereafter refer to the places from the food category as restaurants, and to the other places as venues. Data from Foursquare include latitudes and longitudes so that the distance between venues an restaurants can be computed.\n",
    "\n",
    "### Activity\n",
    "\n",
    "Data related to restaurants include the category of each restaurant.\n",
    "\n",
    "## Methodology \n",
    "\n",
    "### Location\n",
    "\n",
    "The success of a restaurant depends a lot on where it is, ideally in a place with low competition and many potential customers.\n",
    "\n",
    "To stress out how far a venue is from any restaurant, I first compute the distance between every venue and the nearest restaurant. Bellow are the lines of these data, the full csv is available [there](week_4_venues.csv)."
   ]
  },
  {
   "cell_type": "code",
   "execution_count": 20,
   "metadata": {},
   "outputs": [
    {
     "data": {
      "text/html": [
       "<div>\n",
       "<style scoped>\n",
       "    .dataframe tbody tr th:only-of-type {\n",
       "        vertical-align: middle;\n",
       "    }\n",
       "\n",
       "    .dataframe tbody tr th {\n",
       "        vertical-align: top;\n",
       "    }\n",
       "\n",
       "    .dataframe thead th {\n",
       "        text-align: right;\n",
       "    }\n",
       "</style>\n",
       "<table border=\"1\" class=\"dataframe\">\n",
       "  <thead>\n",
       "    <tr style=\"text-align: right;\">\n",
       "      <th></th>\n",
       "      <th>Name</th>\n",
       "      <th>Category</th>\n",
       "      <th>Address</th>\n",
       "      <th>Latitude</th>\n",
       "      <th>Longitude</th>\n",
       "      <th>DistanceToFood</th>\n",
       "    </tr>\n",
       "  </thead>\n",
       "  <tbody>\n",
       "    <tr>\n",
       "      <td>0</td>\n",
       "      <td>College Charles Senard</td>\n",
       "      <td>school</td>\n",
       "      <td>NaN</td>\n",
       "      <td>45.790664</td>\n",
       "      <td>4.842980</td>\n",
       "      <td>2386.719074</td>\n",
       "    </tr>\n",
       "    <tr>\n",
       "      <td>1</td>\n",
       "      <td>Health Club</td>\n",
       "      <td>business</td>\n",
       "      <td>Hilton Lyon Hotel</td>\n",
       "      <td>45.784652</td>\n",
       "      <td>4.853082</td>\n",
       "      <td>1820.112047</td>\n",
       "    </tr>\n",
       "    <tr>\n",
       "      <td>2</td>\n",
       "      <td>Business &amp; Decision</td>\n",
       "      <td>business</td>\n",
       "      <td>NaN</td>\n",
       "      <td>45.785110</td>\n",
       "      <td>4.855372</td>\n",
       "      <td>1800.690422</td>\n",
       "    </tr>\n",
       "    <tr>\n",
       "      <td>3</td>\n",
       "      <td>Fitness Center @Crowne Plaza</td>\n",
       "      <td>business</td>\n",
       "      <td>NaN</td>\n",
       "      <td>45.785289</td>\n",
       "      <td>4.856860</td>\n",
       "      <td>1785.472094</td>\n",
       "    </tr>\n",
       "    <tr>\n",
       "      <td>4</td>\n",
       "      <td>Body Gym Center</td>\n",
       "      <td>business</td>\n",
       "      <td>40 Avenue Henri Barbusse</td>\n",
       "      <td>45.767245</td>\n",
       "      <td>4.879308</td>\n",
       "      <td>1304.989781</td>\n",
       "    </tr>\n",
       "  </tbody>\n",
       "</table>\n",
       "</div>"
      ],
      "text/plain": [
       "                           Name  Category                   Address  \\\n",
       "0        College Charles Senard    school                       NaN   \n",
       "1                   Health Club  business         Hilton Lyon Hotel   \n",
       "2           Business & Decision  business                       NaN   \n",
       "3  Fitness Center @Crowne Plaza  business                       NaN   \n",
       "4               Body Gym Center  business  40 Avenue Henri Barbusse   \n",
       "\n",
       "    Latitude  Longitude  DistanceToFood  \n",
       "0  45.790664   4.842980     2386.719074  \n",
       "1  45.784652   4.853082     1820.112047  \n",
       "2  45.785110   4.855372     1800.690422  \n",
       "3  45.785289   4.856860     1785.472094  \n",
       "4  45.767245   4.879308     1304.989781  "
      ]
     },
     "execution_count": 20,
     "metadata": {},
     "output_type": "execute_result"
    }
   ],
   "source": [
    "pd.read_csv('week_4_venues.csv').head()"
   ]
  },
  {
   "cell_type": "markdown",
   "metadata": {},
   "source": [
    "### Activity\n",
    "\n",
    "What do other restaurants? You may want to be original, or on the contrary do what most people do, but in any case it interesting to know what other people do.\n",
    "\n",
    "## Results \n",
    "\n",
    "### Location\n",
    "\n",
    "Then I display these data on a map. There's an interactive version of it [there](week_4.ipynb). The further away from the nearest restaurant, the bigger the circle of a venue. Restaurants have all a circle of the same size. The colors are as follows:\n",
    "\n",
    "|Category|Color|\n",
    "|-|-|\n",
    "|Food|Red|\n",
    "|Fun|Green|\n",
    "|School|Blue|\n",
    "|Business|Purple|\n",
    "|Transport|Yellow|\n",
    "\n",
    "\n",
    "![map](week_4_map.jpg)\n",
    "\n",
    "### Activity\n",
    "\n",
    "![occurences](week_4_occurences.png)\n",
    "\n",
    "## Discussion \n",
    "\n",
    "### Location\n",
    "\n",
    "The first thing to notice is that the data are available are far from being exhaustive. There's only one place identified in the transport category, namely the \"gare de Lyon\" train station, when there's another train station as big which is not found, the \"Perrache\" train station. I decided to simply ignore the transport category.\n",
    "\n",
    "With a missing train station, it's likely that many places from the remaining categories are also missing. Yet the missing places may be evenly distributed, and therefore the distribution of the known places could be representative of the overall distribution. So let's work with them.\n",
    "\n",
    "It appears that out of the known restaurants, most are in the city center. This seems to leave alone many places related to fun, school and business without any known restaurant nearby. We must be very careful here because there may be a bias that would make the restaurants in the city center to be more prone to be known by Foursquare. But let's assume that this is indeed representative of the overall reallity. So most of restaurants are in the center, and some places in the periphery with many potential customers for your soon to open restaurant are for now rather far from any other restaurant.\n",
    "\n",
    "An opposite strategy would be to stick to places with already many restaurants and several interesting venues around, places were people tend to go out. In that case the best place is the old town, between the two rivers, and the next best place is aound *gare de Lyon* (the single yellow dot).\n",
    "\n",
    "### Activity\n",
    "\n",
    "For a while I was under the false impression that some restaurants had two categories. It turns out I had chanced upon \"160 food\" with no address and \"160 Food\" at \"160 rue Commandant Charcot\". This means that there may be more errors that I wont bother cleaning. I was interested in restaurant with two categories because it may have been a hint for a business model in which a restaurant has two activities."
   ]
  },
  {
   "cell_type": "markdown",
   "metadata": {},
   "source": [
    "## Conclusion\n",
    "\n",
    "We know have a clearer idea about where are restaurants in Lyon, as well as how far from them are venues with potential customers. We also have an idea of what these restaurants do.\n",
    "\n",
    "It would have been interesting to have data about the prices, to study them, and even predict what the prices tend to be depending on other caracteristics of the restaurant, so that if you have an idea for a specific restaurant with a specific activity in a specific location, you can get an idea of the prices of the competion sharing caracteristics with you.\n",
    "\n",
    "Thank you for reading."
   ]
  }
 ],
 "metadata": {
  "kernelspec": {
   "display_name": "Python 3",
   "language": "python",
   "name": "python3"
  },
  "language_info": {
   "codemirror_mode": {
    "name": "ipython",
    "version": 3
   },
   "file_extension": ".py",
   "mimetype": "text/x-python",
   "name": "python",
   "nbconvert_exporter": "python",
   "pygments_lexer": "ipython3",
   "version": "3.7.4"
  }
 },
 "nbformat": 4,
 "nbformat_minor": 2
}
